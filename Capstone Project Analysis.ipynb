{
 "cells": [
  {
   "cell_type": "code",
   "execution_count": null,
   "id": "517e29f7",
   "metadata": {},
   "outputs": [],
   "source": [
    "import pandas as pd\n",
    "import matplotlib.pyplot as plt\n",
    "import seaborn as sns\n",
    "from sklearn.model_selection import train_test_split, GridSearchCV\n",
    "from sklearn.preprocessing import StandardScaler\n",
    "from sklearn.pipeline import Pipeline\n",
    "from sklearn.linear_model import LinearRegression, Ridge\n",
    "from sklearn.ensemble import RandomForestRegressor\n",
    "from sklearn.metrics import mean_squared_error"
   ]
  },
  {
   "cell_type": "code",
   "execution_count": null,
   "id": "f0bc52d0",
   "metadata": {},
   "outputs": [],
   "source": [
    "df1= pd.read_csv('File1.csv')\n",
    "df2=pd.read_csv('File2.csv')\n",
    "df3= pd.read_csve('File3.csv')\n",
    "df= pd.content([df1, df2, df3], ignore_index=True)"
   ]
  },
  {
   "cell_type": "code",
   "execution_count": null,
   "id": "830f54e8",
   "metadata": {},
   "outputs": [],
   "source": [
    "print(df.head())\n",
    "print(df.info())\n",
    "print(df.describe())\n",
    "print(df.isnull().sum())"
   ]
  },
  {
   "cell_type": "code",
   "execution_count": null,
   "id": "6a344b3a",
   "metadata": {},
   "outputs": [],
   "source": [
    "plt.hist(df['numeric_column'], bins=20)\n",
    "plt.xlabel('Numeric Column')\n",
    "plt.ylabel('Frequency')\n",
    "plt.title('Histogram of Numeric Column')\n",
    "plt.show()"
   ]
  },
  {
   "cell_type": "code",
   "execution_count": null,
   "id": "4e651d36",
   "metadata": {},
   "outputs": [],
   "source": [
    "sns.boxplot(x='categorical_column', y='numeric_column', data=df)\n",
    "plt.xlabel('Categorical Column')\n",
    "plt.ylabel('Numeric Column')\n",
    "plt.title('Box plot of Numeric Column by Categorical Column')\n",
    "plt.show()"
   ]
  },
  {
   "cell_type": "code",
   "execution_count": null,
   "id": "cd224bc4",
   "metadata": {},
   "outputs": [],
   "source": [
    "df['year'] = pd.to_datetime(df['date_column']).dt.year"
   ]
  },
  {
   "cell_type": "code",
   "execution_count": null,
   "id": "d1174693",
   "metadata": {},
   "outputs": [],
   "source": [
    "df = pd.read_csv(\"combined_data.csv\")"
   ]
  },
  {
   "cell_type": "code",
   "execution_count": null,
   "id": "8ed3a1ba",
   "metadata": {},
   "outputs": [],
   "source": [
    "X_rental = df.drop(columns=['rental_price'])\n",
    "y_rental = df['rental_price']"
   ]
  },
  {
   "cell_type": "code",
   "execution_count": null,
   "id": "9b4e4d9e",
   "metadata": {},
   "outputs": [],
   "source": [
    "X_area = df.drop(columns=['area'])\n",
    "y_area = df['area']"
   ]
  },
  {
   "cell_type": "code",
   "execution_count": null,
   "id": "b5e7d23d",
   "metadata": {},
   "outputs": [],
   "source": [
    "X_rental_train, X_rental_test, y_rental_train, y_rental_test = train_test_split(X_rental, y_rental, test_size=0.2, random_state=42)\n",
    "X_area_train, X_area_test, y_area_train, y_area_test = train_test_split(X_area, y_area, test_size=0.2, random_state=42)"
   ]
  },
  {
   "cell_type": "code",
   "execution_count": null,
   "id": "4228cbe8",
   "metadata": {},
   "outputs": [],
   "source": [
    "rental_pipeline = Pipeline([\n",
    "    ('scaler', StandardScaler()),\n",
    "    ('model', RandomForestRegressor())])"
   ]
  },
  {
   "cell_type": "code",
   "execution_count": null,
   "id": "5e2bdde8",
   "metadata": {},
   "outputs": [],
   "source": [
    "rental_param_grid = {\n",
    "    'model__n_estimators': [100, 200, 300],\n",
    "    'model__max_depth': [None, 5, 10, 15],\n",
    "    'model__min_samples_split': [2, 5, 10],\n",
    "    'model__min_samples_leaf': [1, 2, 4]}"
   ]
  },
  {
   "cell_type": "code",
   "execution_count": null,
   "id": "2722a443",
   "metadata": {},
   "outputs": [],
   "source": [
    "rental_grid_search = GridSearchCV(rental_pipeline, rental_param_grid, cv=5, scoring='neg_mean_squared_error', n_jobs=-1)\n",
    "rental_grid_search.fit(X_rental_train, y_rental_train)"
   ]
  },
  {
   "cell_type": "code",
   "execution_count": null,
   "id": "52e32bcd",
   "metadata": {},
   "outputs": [],
   "source": [
    "best_rental_model = rental_grid_search.best_estimator_"
   ]
  },
  {
   "cell_type": "code",
   "execution_count": null,
   "id": "d7612518",
   "metadata": {},
   "outputs": [],
   "source": [
    "rental_predictions = best_rental_model.predict(X_rental_test)\n",
    "rental_mse = mean_squared_error(y_rental_test, rental_predictions)\n",
    "print(\"Rental Price Prediction MSE:\", rental_mse)"
   ]
  },
  {
   "cell_type": "code",
   "execution_count": null,
   "id": "6949f3f5",
   "metadata": {},
   "outputs": [],
   "source": [
    "area_pipeline = Pipeline([\n",
    "    ('scaler', StandardScaler()),\n",
    "    ('model', Ridge())])"
   ]
  },
  {
   "cell_type": "code",
   "execution_count": null,
   "id": "4daf5b93",
   "metadata": {},
   "outputs": [],
   "source": [
    "area_param_grid = {\n",
    "    'model__alpha': [0.1, 1.0, 10.0]}"
   ]
  },
  {
   "cell_type": "code",
   "execution_count": null,
   "id": "fc3eb47f",
   "metadata": {},
   "outputs": [],
   "source": [
    "area_grid_search = GridSearchCV(area_pipeline, area_param_grid, cv=5, scoring='neg_mean_squared_error', n_jobs=-1)\n",
    "area_grid_search.fit(X_area_train, y_area_train)"
   ]
  },
  {
   "cell_type": "code",
   "execution_count": null,
   "id": "67721499",
   "metadata": {},
   "outputs": [],
   "source": [
    "best_area_model = area_grid_search.best_estimator_"
   ]
  },
  {
   "cell_type": "code",
   "execution_count": null,
   "id": "a22a969e",
   "metadata": {},
   "outputs": [],
   "source": [
    "area_predictions = best_area_model.predict(X_area_test)\n",
    "area_mse = mean_squared_error(y_area_test, area_predictions)\n",
    "print(\"Area Prediction MSE:\", area_mse)"
   ]
  }
 ],
 "metadata": {
  "kernelspec": {
   "display_name": "Python 3 (ipykernel)",
   "language": "python",
   "name": "python3"
  },
  "language_info": {
   "codemirror_mode": {
    "name": "ipython",
    "version": 3
   },
   "file_extension": ".py",
   "mimetype": "text/x-python",
   "name": "python",
   "nbconvert_exporter": "python",
   "pygments_lexer": "ipython3",
   "version": "3.9.7"
  }
 },
 "nbformat": 4,
 "nbformat_minor": 5
}
